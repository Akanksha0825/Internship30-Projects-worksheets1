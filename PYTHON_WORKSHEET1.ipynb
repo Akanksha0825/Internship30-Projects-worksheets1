{
 "cells": [
  {
   "cell_type": "markdown",
   "id": "035dff1d",
   "metadata": {},
   "source": [
    "# PYTHON WORKSHEET1"
   ]
  },
  {
   "cell_type": "markdown",
   "id": "fb921495",
   "metadata": {},
   "source": [
    "Q1 to Q8 have only one correct answer\n",
    "\n",
    "\n"
   ]
  },
  {
   "cell_type": "markdown",
   "id": "8da66998",
   "metadata": {},
   "source": [
    "1.Which of the following operators is used to calculate remainder in a division?\n",
    "\n",
    "Ans. %"
   ]
  },
  {
   "cell_type": "markdown",
   "id": "11b4c472",
   "metadata": {},
   "source": [
    "2.In python 2//3 is equal to?\n",
    "\n"
   ]
  },
  {
   "cell_type": "code",
   "execution_count": 3,
   "id": "b8753bbd",
   "metadata": {},
   "outputs": [
    {
     "data": {
      "text/plain": [
       "0"
      ]
     },
     "execution_count": 3,
     "metadata": {},
     "output_type": "execute_result"
    }
   ],
   "source": [
    "2//3"
   ]
  },
  {
   "cell_type": "markdown",
   "id": "02126fb2",
   "metadata": {},
   "source": [
    "3.In python, 6<<2 is equal to?\n",
    "Ans. 24\n"
   ]
  },
  {
   "cell_type": "code",
   "execution_count": 2,
   "id": "64c83fc4",
   "metadata": {},
   "outputs": [
    {
     "data": {
      "text/plain": [
       "24"
      ]
     },
     "execution_count": 2,
     "metadata": {},
     "output_type": "execute_result"
    }
   ],
   "source": [
    "6<<2"
   ]
  },
  {
   "cell_type": "markdown",
   "id": "cef22f8a",
   "metadata": {},
   "source": [
    "4.In python, 6&2 will give which of the following as output?\n",
    "\n",
    "Ans. 2"
   ]
  },
  {
   "cell_type": "code",
   "execution_count": 3,
   "id": "6f8ab2f7",
   "metadata": {},
   "outputs": [
    {
     "data": {
      "text/plain": [
       "2"
      ]
     },
     "execution_count": 3,
     "metadata": {},
     "output_type": "execute_result"
    }
   ],
   "source": [
    "6&2"
   ]
  },
  {
   "cell_type": "markdown",
   "id": "f44069a3",
   "metadata": {},
   "source": [
    "5.In python, 6|2 will give which of the following as output?\n",
    "\n",
    "Ans. 6"
   ]
  },
  {
   "cell_type": "code",
   "execution_count": 5,
   "id": "cc33552d",
   "metadata": {},
   "outputs": [
    {
     "data": {
      "text/plain": [
       "6"
      ]
     },
     "execution_count": 5,
     "metadata": {},
     "output_type": "execute_result"
    }
   ],
   "source": [
    "6|2"
   ]
  },
  {
   "cell_type": "markdown",
   "id": "45223a65",
   "metadata": {},
   "source": [
    "6.What does the finally keyword denotes in python?\n",
    "\n",
    "Ans.Finally Keyword defines a block of code we use along with the try keyword. It defines code that's always run after the try and any catch block, before the method is completed. The finally block executes regardless of whether an exception is thrown or caught."
   ]
  },
  {
   "cell_type": "markdown",
   "id": "6a7c31c8",
   "metadata": {},
   "source": [
    "7.What does raise keyword is used for in python?\n",
    "\n",
    "Ans.In Python raise Keyword is used to raise exceptions or errors.\n",
    "The raise keyword raises an error and stops the control flow of the program.\n",
    "It is used to bring up the current exception in an exception handler so that it can be handled further up the call stack. \n"
   ]
  },
  {
   "cell_type": "markdown",
   "id": "e8401c42",
   "metadata": {},
   "source": [
    "8.Which of the following is a common use case of yield keyword in python?\n",
    "\n",
    "Ans.In defining a generator\n",
    "\n",
    "\n"
   ]
  },
  {
   "cell_type": "markdown",
   "id": "7beaa92d",
   "metadata": {},
   "source": [
    "Q9 and Q10 have multiple correct answers."
   ]
  },
  {
   "cell_type": "markdown",
   "id": "45c6e6cd",
   "metadata": {},
   "source": [
    "9. Which of the following are the valid variable names?\n",
    "\n",
    "Ans. a)_abc b)1abc c)abc2"
   ]
  },
  {
   "cell_type": "markdown",
   "id": "de2c46b1",
   "metadata": {},
   "source": [
    "10. Which of the following are the keywords in python?\n",
    "\n",
    "Ans. a)yeild b)raise"
   ]
  },
  {
   "cell_type": "markdown",
   "id": "a0ec609d",
   "metadata": {},
   "source": [
    "Q11 to Q15 are programming questions."
   ]
  },
  {
   "cell_type": "markdown",
   "id": "24dea34a",
   "metadata": {},
   "source": [
    "11.Write a python program to find the factorial of a number."
   ]
  },
  {
   "cell_type": "markdown",
   "id": "68387478",
   "metadata": {},
   "source": [
    "# Python Program to find factorial of a given number"
   ]
  },
  {
   "cell_type": "markdown",
   "id": "d3490589",
   "metadata": {},
   "source": [
    "num = 5\n",
    "\n",
    "fact = 5 * 4 * 3 * 2 * 1 = 120 "
   ]
  },
  {
   "cell_type": "code",
   "execution_count": 14,
   "id": "d957605b",
   "metadata": {},
   "outputs": [
    {
     "name": "stdout",
     "output_type": "stream",
     "text": [
      "Enter the number: 5\n",
      "The factorial of  5  is  120\n"
     ]
    }
   ],
   "source": [
    "fact = 1\n",
    "num = int (input(\"Enter the number: \"))\n",
    "org = num\n",
    "while num > 0:\n",
    "    fact = fact * num\n",
    "    num = num - 1\n",
    "    \n",
    "print (\"The factorial of \", org,\" is \", fact)\n",
    "    \n"
   ]
  },
  {
   "cell_type": "markdown",
   "id": "9173cbc2",
   "metadata": {},
   "source": [
    "12. Write a python program to find whether a number is prime or composite.\n",
    "\n"
   ]
  },
  {
   "cell_type": "markdown",
   "id": "8edf287a",
   "metadata": {},
   "source": [
    "# Python program to find the number is prime or composite."
   ]
  },
  {
   "cell_type": "markdown",
   "id": "fb28b293",
   "metadata": {},
   "source": [
    "A number is said to be prime, if it is not divisible by any other number except by 1 and itself.\n",
    "\n",
    "Example; 2,3,5,7,11 and so on are prime number.\n",
    "4,6,8,10,12,15 and so on are not prime numbers they are composite numbers as they are divisible by 2 or more numbers."
   ]
  },
  {
   "cell_type": "code",
   "execution_count": 18,
   "id": "c780b6d9",
   "metadata": {},
   "outputs": [
    {
     "name": "stdout",
     "output_type": "stream",
     "text": [
      "Enter the number: 5\n",
      "The number is prime\n"
     ]
    }
   ],
   "source": [
    "num = int (input(\"Enter the number: \"))\n",
    "flag = 0\n",
    "for i in range (2, num):\n",
    "    if (num % i == 0):\n",
    "        flag = 1\n",
    "        break\n",
    "        \n",
    "if (flag == 0):\n",
    "    print(\"The number is prime\")\n",
    "else:\n",
    "    print(\"The number is not a prime\")\n",
    "    \n"
   ]
  },
  {
   "cell_type": "code",
   "execution_count": 19,
   "id": "883416cd",
   "metadata": {},
   "outputs": [
    {
     "name": "stdout",
     "output_type": "stream",
     "text": [
      "Enter the number: 14\n",
      "The number is not a prime\n"
     ]
    }
   ],
   "source": [
    "num = int (input(\"Enter the number: \"))\n",
    "flag = 0\n",
    "for i in range (2, num):\n",
    "    if (num % i == 0):\n",
    "        flag = 1\n",
    "        break\n",
    "        \n",
    "if (flag == 0):\n",
    "    print(\"The number is prime\")\n",
    "else:\n",
    "    print(\"The number is not a prime\")"
   ]
  },
  {
   "cell_type": "markdown",
   "id": "7eb5d926",
   "metadata": {},
   "source": [
    "13. Write a python program to check whether a given string is palindrome or not"
   ]
  },
  {
   "cell_type": "markdown",
   "id": "a4aeb6af",
   "metadata": {},
   "source": [
    "# Program to check wheather string is Palindrome or not"
   ]
  },
  {
   "cell_type": "code",
   "execution_count": 20,
   "id": "49412088",
   "metadata": {},
   "outputs": [
    {
     "name": "stdout",
     "output_type": "stream",
     "text": [
      "Enter a String: MADAM\n",
      "Palindrome string\n"
     ]
    }
   ],
   "source": [
    "a = input(\"Enter a String: \")\n",
    "b = a[-1::-1]\n",
    "if(a==b):\n",
    "    print(\"Palindrome string\")\n",
    "else:\n",
    "    print(\"Not a Palindrome string\")\n"
   ]
  },
  {
   "cell_type": "code",
   "execution_count": 21,
   "id": "3d25ca2d",
   "metadata": {},
   "outputs": [
    {
     "name": "stdout",
     "output_type": "stream",
     "text": [
      "Enter a String: SCHOOL\n",
      "Not a Palindrome string\n"
     ]
    }
   ],
   "source": [
    "a = input(\"Enter a String: \")\n",
    "b = a[-1::-1]\n",
    "if(a==b):\n",
    "    print(\"Palindrome string\")\n",
    "else:\n",
    "    print(\"Not a Palindrome string\")"
   ]
  },
  {
   "cell_type": "markdown",
   "id": "9505b084",
   "metadata": {},
   "source": [
    "14. Write a Python program to get the third side of right-angled triangle from two given sides."
   ]
  },
  {
   "cell_type": "markdown",
   "id": "9d4425d5",
   "metadata": {},
   "source": [
    "# Python program to find the third side of Right angled Triangle from two given sides"
   ]
  },
  {
   "cell_type": "code",
   "execution_count": 34,
   "id": "d0e8571f",
   "metadata": {},
   "outputs": [
    {
     "name": "stdout",
     "output_type": "stream",
     "text": [
      "input length of shorter triangle side:\n",
      "a: 7\n",
      "b: 5\n",
      "The length of the hypotenous is: 8.602325267042627\n"
     ]
    }
   ],
   "source": [
    "from math import sqrt\n",
    "print(\"input length of shorter triangle side:\")\n",
    "a = float(input(\"a: \"))\n",
    "b = float(input(\"b: \")) \n",
    "c = sqrt(a**2 + b**2)\n",
    "print(\"The length of the hypotenous is:\", c )"
   ]
  },
  {
   "cell_type": "markdown",
   "id": "a627669e",
   "metadata": {},
   "source": [
    "15. Write a python program to print the frequency of each of the characters present in a given string"
   ]
  },
  {
   "cell_type": "markdown",
   "id": "77bb78d2",
   "metadata": {},
   "source": [
    "# Python program to print the frequency of each of the characters present in a given string"
   ]
  },
  {
   "cell_type": "code",
   "execution_count": 37,
   "id": "7f54a758",
   "metadata": {},
   "outputs": [
    {
     "name": "stdout",
     "output_type": "stream",
     "text": [
      "Enter the stringgtugtugmbgtu\n",
      "{'g': 4, 't': 3, 'u': 3, 'm': 1, 'b': 1}\n"
     ]
    }
   ],
   "source": [
    "str1 = input (\"Enter the string\")\n",
    "d1 = dict()\n",
    "for c in str1:\n",
    "    if c in d1:\n",
    "        d1[c] = d1[c] + 1\n",
    "    else:\n",
    "        d1[c] = 1\n",
    "print (d1)\n",
    " \n",
    "    "
   ]
  },
  {
   "cell_type": "markdown",
   "id": "1c536357",
   "metadata": {},
   "source": [
    "#GET FUNCTION\n"
   ]
  },
  {
   "cell_type": "code",
   "execution_count": 38,
   "id": "bf6f2d67",
   "metadata": {},
   "outputs": [
    {
     "name": "stdout",
     "output_type": "stream",
     "text": [
      "Enter the stringgmbgmbtuvgmbtuv\n",
      "{'g': 3, 'm': 3, 'b': 3, 't': 2, 'u': 2, 'v': 2}\n"
     ]
    }
   ],
   "source": [
    "str1 = input (\"Enter the string\")\n",
    "d1 = dict()\n",
    "for c in str1:\n",
    "    d1[c] = d1.get(c, 0) + 1\n",
    "    \n",
    "print (d1)"
   ]
  },
  {
   "cell_type": "code",
   "execution_count": null,
   "id": "cfd03524",
   "metadata": {},
   "outputs": [],
   "source": []
  }
 ],
 "metadata": {
  "kernelspec": {
   "display_name": "Python 3 (ipykernel)",
   "language": "python",
   "name": "python3"
  },
  "language_info": {
   "codemirror_mode": {
    "name": "ipython",
    "version": 3
   },
   "file_extension": ".py",
   "mimetype": "text/x-python",
   "name": "python",
   "nbconvert_exporter": "python",
   "pygments_lexer": "ipython3",
   "version": "3.9.7"
  }
 },
 "nbformat": 4,
 "nbformat_minor": 5
}
